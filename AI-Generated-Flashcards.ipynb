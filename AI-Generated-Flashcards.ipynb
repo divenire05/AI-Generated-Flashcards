{
 "cells": [
  {
   "cell_type": "code",
   "execution_count": 1,
   "id": "017567f5-b1cb-4335-800b-9d0e02079c53",
   "metadata": {},
   "outputs": [],
   "source": [
    "import os # Will need for LangSmith & Neo4j"
   ]
  },
  {
   "cell_type": "code",
   "execution_count": null,
   "id": "fda1ad88-ba74-40dc-9549-425509879126",
   "metadata": {},
   "outputs": [],
   "source": [
    "b"
   ]
  }
 ],
 "metadata": {
  "kernelspec": {
   "display_name": "Python 3 (ipykernel)",
   "language": "python",
   "name": "python3"
  },
  "language_info": {
   "codemirror_mode": {
    "name": "ipython",
    "version": 3
   },
   "file_extension": ".py",
   "mimetype": "text/x-python",
   "name": "python",
   "nbconvert_exporter": "python",
   "pygments_lexer": "ipython3",
   "version": "3.12.7"
  }
 },
 "nbformat": 4,
 "nbformat_minor": 5
}
